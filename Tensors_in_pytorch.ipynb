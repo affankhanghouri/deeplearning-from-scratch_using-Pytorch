{
  "nbformat": 4,
  "nbformat_minor": 0,
  "metadata": {
    "colab": {
      "provenance": [],
      "gpuType": "T4"
    },
    "kernelspec": {
      "name": "python3",
      "display_name": "Python 3"
    },
    "language_info": {
      "name": "python"
    },
    "accelerator": "GPU"
  },
  "cells": [
    {
      "cell_type": "markdown",
      "source": [
        "\n",
        "\n",
        "# purpose\n",
        "\n",
        "I started with tensors in PyTorch because they're basically the building blocks of everything in deep learning. They're like NumPy arrays but way more powerful  you can run them on GPUs and they support automatic differentiation, which is super important for training neural networks. Whether it's the data going in, the model's weights, or the gradients during training, it's all tensors. Learning how to reshape, slice, multiply, and move tensors between CPU and GPU early on is definitely going to make things easier for me later. I believe having a good grip on tensors now will save me a lot of headaches when I get into more complex stuff like CNNs, RNNs, and Transformers.\n",
        "\n"
      ],
      "metadata": {
        "id": "SBQz57738OzR"
      }
    },
    {
      "cell_type": "code",
      "execution_count": null,
      "metadata": {
        "id": "DbgG-alxqj-J"
      },
      "outputs": [],
      "source": [
        "import torch"
      ]
    },
    {
      "cell_type": "markdown",
      "source": [
        "# creating tensor"
      ],
      "metadata": {
        "id": "hOSn4GsGrIrL"
      }
    },
    {
      "cell_type": "code",
      "source": [
        "a=torch.empty(1,3)\n",
        "print(a)"
      ],
      "metadata": {
        "colab": {
          "base_uri": "https://localhost:8080/"
        },
        "id": "hKoUu9gYq1Cy",
        "outputId": "0a454071-cb3d-41e4-c43c-37815933d508"
      },
      "execution_count": null,
      "outputs": [
        {
          "output_type": "stream",
          "name": "stdout",
          "text": [
            "tensor([[2.2331e-07, 0.0000e+00, 2.2566e-07]])\n"
          ]
        }
      ]
    },
    {
      "cell_type": "code",
      "source": [
        "type(a)"
      ],
      "metadata": {
        "colab": {
          "base_uri": "https://localhost:8080/"
        },
        "id": "Pd0raUHzrNqN",
        "outputId": "461f3baf-c114-49dc-d02f-05eb75b63e1f"
      },
      "execution_count": null,
      "outputs": [
        {
          "output_type": "execute_result",
          "data": {
            "text/plain": [
              "torch.Tensor"
            ]
          },
          "metadata": {},
          "execution_count": 8
        }
      ]
    },
    {
      "cell_type": "code",
      "source": [
        "# to put zero in every position of tensor\n",
        "torch.zeros(2,3)"
      ],
      "metadata": {
        "colab": {
          "base_uri": "https://localhost:8080/"
        },
        "id": "WXxgtzNarSLx",
        "outputId": "fa2c1e8e-8ae0-40a9-a837-ac7fcfde0b6b"
      },
      "execution_count": null,
      "outputs": [
        {
          "output_type": "execute_result",
          "data": {
            "text/plain": [
              "tensor([[0., 0., 0.],\n",
              "        [0., 0., 0.]])"
            ]
          },
          "metadata": {},
          "execution_count": 11
        }
      ]
    },
    {
      "cell_type": "code",
      "source": [
        "# to put ones in every position of tensor\n",
        "\n",
        "torch.ones(2,3)"
      ],
      "metadata": {
        "colab": {
          "base_uri": "https://localhost:8080/"
        },
        "id": "hqT1fONJsSMg",
        "outputId": "2f6431a3-61fc-4ae7-ac4a-62aa27543f20"
      },
      "execution_count": null,
      "outputs": [
        {
          "output_type": "execute_result",
          "data": {
            "text/plain": [
              "tensor([[1., 1., 1.],\n",
              "        [1., 1., 1.]])"
            ]
          },
          "metadata": {},
          "execution_count": 12
        }
      ]
    },
    {
      "cell_type": "code",
      "source": [
        "# to put random values on tensor\n",
        "\n",
        "torch.rand(2,3)"
      ],
      "metadata": {
        "colab": {
          "base_uri": "https://localhost:8080/"
        },
        "id": "7VPmsbAbshaS",
        "outputId": "09a896d3-25e6-409f-c29e-d52599918bc4"
      },
      "execution_count": null,
      "outputs": [
        {
          "output_type": "execute_result",
          "data": {
            "text/plain": [
              "tensor([[0.2265, 0.9427, 0.8349],\n",
              "        [0.2651, 0.7165, 0.9796]])"
            ]
          },
          "metadata": {},
          "execution_count": 13
        }
      ]
    },
    {
      "cell_type": "code",
      "source": [
        "# for manual seed\n",
        "\n",
        "torch.manual_seed(23)\n",
        "\n",
        "torch.rand(2,3)"
      ],
      "metadata": {
        "colab": {
          "base_uri": "https://localhost:8080/"
        },
        "id": "BPDcf4rKsn37",
        "outputId": "ec7f33b0-64ac-43ed-f95d-ab4bd56f3df0"
      },
      "execution_count": null,
      "outputs": [
        {
          "output_type": "execute_result",
          "data": {
            "text/plain": [
              "tensor([[0.4283, 0.2889, 0.4224],\n",
              "        [0.3571, 0.9577, 0.1100]])"
            ]
          },
          "metadata": {},
          "execution_count": 16
        }
      ]
    },
    {
      "cell_type": "code",
      "source": [
        "# to put manual values in tensor\n",
        "\n",
        "torch.tensor([[1,2,3],[4,5,6],[7,8,9]])\n",
        "\n"
      ],
      "metadata": {
        "colab": {
          "base_uri": "https://localhost:8080/"
        },
        "id": "_N4dRgvls0l1",
        "outputId": "9bfe1521-d33b-4710-a0b3-19a6e1baa711"
      },
      "execution_count": null,
      "outputs": [
        {
          "output_type": "execute_result",
          "data": {
            "text/plain": [
              "tensor([[1, 2, 3],\n",
              "        [4, 5, 6],\n",
              "        [7, 8, 9]])"
            ]
          },
          "metadata": {},
          "execution_count": 22
        }
      ]
    },
    {
      "cell_type": "code",
      "source": [
        "#for creating a 1D tensor with values starting from start to end(exclusive), with a given step\n",
        "\n",
        "torch.arange(1,11,1)"
      ],
      "metadata": {
        "colab": {
          "base_uri": "https://localhost:8080/"
        },
        "id": "Y1rQV3ess3DL",
        "outputId": "0e518890-fa3b-4b71-8046-c2ab72d4d305"
      },
      "execution_count": null,
      "outputs": [
        {
          "output_type": "execute_result",
          "data": {
            "text/plain": [
              "tensor([ 1,  2,  3,  4,  5,  6,  7,  8,  9, 10])"
            ]
          },
          "metadata": {},
          "execution_count": 23
        }
      ]
    },
    {
      "cell_type": "code",
      "source": [
        "# for Creates a 1D tensor with steps number of values evenly spaced between start and end (inclusive).\n",
        "\n",
        "torch.linspace(0,5,5)"
      ],
      "metadata": {
        "colab": {
          "base_uri": "https://localhost:8080/"
        },
        "id": "9btEAzh-t74w",
        "outputId": "0bd3695e-7035-4486-a41c-f6f13ad964fb"
      },
      "execution_count": null,
      "outputs": [
        {
          "output_type": "execute_result",
          "data": {
            "text/plain": [
              "tensor([0.0000, 1.2500, 2.5000, 3.7500, 5.0000])"
            ]
          },
          "metadata": {},
          "execution_count": 28
        }
      ]
    },
    {
      "cell_type": "code",
      "source": [
        "# for creating a 2D identity matrix\n",
        "torch.eye(2,3)"
      ],
      "metadata": {
        "colab": {
          "base_uri": "https://localhost:8080/"
        },
        "id": "NE7DdkLOuSxh",
        "outputId": "2bde2413-2f53-476c-b211-60be2a23e0d5"
      },
      "execution_count": null,
      "outputs": [
        {
          "output_type": "execute_result",
          "data": {
            "text/plain": [
              "tensor([[1., 0., 0.],\n",
              "        [0., 1., 0.]])"
            ]
          },
          "metadata": {},
          "execution_count": 29
        }
      ]
    },
    {
      "cell_type": "code",
      "source": [
        "#Creates a tensor of the given size, filled with the given_value.\n",
        "\n",
        "torch.full((2,3),10)"
      ],
      "metadata": {
        "colab": {
          "base_uri": "https://localhost:8080/"
        },
        "id": "Kb5FGAfjxHr0",
        "outputId": "417d03e6-1b3d-4e5f-b5fe-94b3cdbf1815"
      },
      "execution_count": null,
      "outputs": [
        {
          "output_type": "execute_result",
          "data": {
            "text/plain": [
              "tensor([[10, 10, 10],\n",
              "        [10, 10, 10]])"
            ]
          },
          "metadata": {},
          "execution_count": 30
        }
      ]
    },
    {
      "cell_type": "code",
      "source": [
        "# creates a new tensor with the same shape and data type as the input tensor ,but with uninitialized values.\n",
        "\n",
        "a=torch.empty(3,3)\n",
        "\n",
        "b=torch.empty_like(a)\n",
        "\n",
        "b.shape"
      ],
      "metadata": {
        "colab": {
          "base_uri": "https://localhost:8080/"
        },
        "id": "VBdKMTRzxTQl",
        "outputId": "2d49cb4e-f958-491d-95a1-fbd3fd00e5c7"
      },
      "execution_count": null,
      "outputs": [
        {
          "output_type": "execute_result",
          "data": {
            "text/plain": [
              "torch.Size([3, 3])"
            ]
          },
          "metadata": {},
          "execution_count": 34
        }
      ]
    },
    {
      "cell_type": "markdown",
      "source": [
        "# Mathematical operation"
      ],
      "metadata": {
        "id": "uxFFNRe-zfYI"
      }
    },
    {
      "cell_type": "code",
      "source": [
        "a=torch.rand(3,3)\n",
        "print(a)\n"
      ],
      "metadata": {
        "colab": {
          "base_uri": "https://localhost:8080/"
        },
        "id": "6K4H3fiJzmRA",
        "outputId": "b0302d8b-0560-4376-ea6b-b6134621b098"
      },
      "execution_count": null,
      "outputs": [
        {
          "output_type": "stream",
          "name": "stdout",
          "text": [
            "tensor([[0.6732, 0.6593, 0.1879],\n",
            "        [0.4546, 0.1049, 0.7112],\n",
            "        [0.7709, 0.5514, 0.0807]])\n"
          ]
        }
      ]
    },
    {
      "cell_type": "code",
      "source": [
        "# additon\n",
        "add=a+ 5\n",
        "\n",
        "#subtraction\n",
        "\n",
        "sub=a-2\n",
        "\n",
        "# multiplication\n",
        "mul=a*100\n",
        "\n",
        "#division\n",
        "div=a/10\n",
        "\n",
        "# mod\n",
        "mod=(a*100)%2\n",
        "\n",
        "# power\n",
        "pow = a**3\n",
        "\n",
        "print(add)\n",
        "print(sub)\n",
        "print(mul)\n",
        "print(div)\n",
        "print(mod)\n",
        "print(pow)"
      ],
      "metadata": {
        "colab": {
          "base_uri": "https://localhost:8080/"
        },
        "id": "PNjO2EJ0zsHK",
        "outputId": "9150dfea-4d9e-4639-ca4d-3c95fad4e081"
      },
      "execution_count": null,
      "outputs": [
        {
          "output_type": "stream",
          "name": "stdout",
          "text": [
            "tensor([[5.6732, 5.6593, 5.1879],\n",
            "        [5.4546, 5.1049, 5.7112],\n",
            "        [5.7709, 5.5514, 5.0807]])\n",
            "tensor([[-1.3268, -1.3407, -1.8121],\n",
            "        [-1.5454, -1.8951, -1.2888],\n",
            "        [-1.2291, -1.4486, -1.9193]])\n",
            "tensor([[67.3182, 65.9313, 18.7899],\n",
            "        [45.4583, 10.4891, 71.1216],\n",
            "        [77.0928, 55.1383,  8.0729]])\n",
            "tensor([[0.0673, 0.0659, 0.0188],\n",
            "        [0.0455, 0.0105, 0.0711],\n",
            "        [0.0771, 0.0551, 0.0081]])\n",
            "tensor([[1.3182, 1.9313, 0.7899],\n",
            "        [1.4583, 0.4891, 1.1216],\n",
            "        [1.0928, 1.1383, 0.0729]])\n",
            "tensor([[0.3051, 0.2866, 0.0066],\n",
            "        [0.0939, 0.0012, 0.3598],\n",
            "        [0.4582, 0.1676, 0.0005]])\n"
          ]
        }
      ]
    },
    {
      "cell_type": "markdown",
      "source": [
        "# Element wise operations"
      ],
      "metadata": {
        "id": "LcRNo-ry05mx"
      }
    },
    {
      "cell_type": "code",
      "source": [
        "x=torch.rand(3,3)\n",
        "y=torch.rand(3,3)"
      ],
      "metadata": {
        "id": "IZIAFQjqz2CH"
      },
      "execution_count": null,
      "outputs": []
    },
    {
      "cell_type": "code",
      "source": [
        "## addition\n",
        "add=x+y\n",
        "\n",
        "## sub\n",
        "\n",
        "sub=x+y\n",
        "\n",
        "# mul\n",
        "\n",
        "mul = x*y\n",
        "\n",
        "# div\n",
        "div = x/y\n",
        "\n",
        "\n",
        "print(add)\n",
        "print(sub)\n",
        "print(mul)\n",
        "print(div)"
      ],
      "metadata": {
        "colab": {
          "base_uri": "https://localhost:8080/"
        },
        "id": "Qq_1jQhr1BaV",
        "outputId": "23aea2e2-c0bf-40d7-ff95-bc783c42cf82"
      },
      "execution_count": null,
      "outputs": [
        {
          "output_type": "stream",
          "name": "stdout",
          "text": [
            "tensor([[0.9107, 1.2703, 1.1164],\n",
            "        [1.2231, 1.1513, 1.5307],\n",
            "        [1.3849, 0.5935, 1.1032]])\n",
            "tensor([[0.9107, 1.2703, 1.1164],\n",
            "        [1.2231, 1.1513, 1.5307],\n",
            "        [1.3849, 0.5935, 1.1032]])\n",
            "tensor([[0.1203, 0.3578, 0.2667],\n",
            "        [0.3427, 0.3285, 0.5720],\n",
            "        [0.4792, 0.0562, 0.1927]])\n",
            "tensor([[0.2138, 0.4967, 2.2236],\n",
            "        [0.5511, 0.8295, 0.7341],\n",
            "        [0.9490, 0.2489, 0.2457]])\n"
          ]
        }
      ]
    },
    {
      "cell_type": "markdown",
      "source": [
        "# some Function"
      ],
      "metadata": {
        "id": "zd19n2_81ukl"
      }
    },
    {
      "cell_type": "code",
      "source": [
        "# for absoulte\n",
        "\n",
        "a=torch.tensor([1,-10,-2])\n",
        "\n",
        "print(torch.abs(a))"
      ],
      "metadata": {
        "colab": {
          "base_uri": "https://localhost:8080/"
        },
        "id": "BLezPcux1LNG",
        "outputId": "e28c9fbc-c230-4e39-ad86-aaecad696c9d"
      },
      "execution_count": null,
      "outputs": [
        {
          "output_type": "stream",
          "name": "stdout",
          "text": [
            "tensor([ 1, 10,  2])\n"
          ]
        }
      ]
    },
    {
      "cell_type": "code",
      "source": [
        "# for negative\n",
        "\n",
        "print(torch.neg(a))"
      ],
      "metadata": {
        "colab": {
          "base_uri": "https://localhost:8080/"
        },
        "id": "bLZJHidY12m6",
        "outputId": "9d8cae57-b662-4ba9-9630-0d4549689420"
      },
      "execution_count": null,
      "outputs": [
        {
          "output_type": "stream",
          "name": "stdout",
          "text": [
            "tensor([-1, 10,  2])\n"
          ]
        }
      ]
    },
    {
      "cell_type": "code",
      "source": [
        "\n",
        "# for rounding off\n",
        "a=torch.tensor([1.9,3.9,1.1])\n",
        "print(torch.round(a))\n"
      ],
      "metadata": {
        "colab": {
          "base_uri": "https://localhost:8080/"
        },
        "id": "rHrABRmd2Jpm",
        "outputId": "d6c965b0-4747-4892-c0e6-978d06f082e0"
      },
      "execution_count": null,
      "outputs": [
        {
          "output_type": "stream",
          "name": "stdout",
          "text": [
            "tensor([2., 4., 1.])\n"
          ]
        }
      ]
    },
    {
      "cell_type": "markdown",
      "source": [
        "# some functions for shape and type inspection"
      ],
      "metadata": {
        "id": "Wk4-Cedh305f"
      }
    },
    {
      "cell_type": "code",
      "source": [
        "a = torch.tensor([[1., 2., 3.], [4., 5., 6.]])\n",
        "print(\"Tensor:\", a)\n",
        "print(\"Shape:\", a.shape)\n",
        "print(\"Dims:\", a.ndim)\n",
        "print(\"Dtype:\", a.dtype)\n",
        "print(\"Device:\", a.device)"
      ],
      "metadata": {
        "colab": {
          "base_uri": "https://localhost:8080/"
        },
        "id": "INRNBiBn2UF0",
        "outputId": "782f5007-38d2-4f24-c7b2-a9a20034e7fd"
      },
      "execution_count": null,
      "outputs": [
        {
          "output_type": "stream",
          "name": "stdout",
          "text": [
            "Tensor: tensor([[1., 2., 3.],\n",
            "        [4., 5., 6.]])\n",
            "Shape: torch.Size([2, 3])\n",
            "Dims: 2\n",
            "Dtype: torch.float32\n",
            "Device: cpu\n"
          ]
        }
      ]
    },
    {
      "cell_type": "markdown",
      "source": [
        "# for mathematical operation"
      ],
      "metadata": {
        "id": "6nrd22EX4KD7"
      }
    },
    {
      "cell_type": "code",
      "source": [
        "print(\"Sum:\", torch.sum(a))\n",
        "print(\"Mean:\", torch.mean(a))\n",
        "print(\"Std Dev:\", torch.std(a))\n",
        "print(\"Max:\", torch.max(a))\n",
        "print(\"Min:\", torch.min(a))\n",
        "print(\"Argmax:\", a.argmax())\n",
        "print(\"Argmin:\", a.argmin())"
      ],
      "metadata": {
        "colab": {
          "base_uri": "https://localhost:8080/"
        },
        "id": "lRbIecaL4AJP",
        "outputId": "892c0990-7de4-4e00-a41b-561af91e84e2"
      },
      "execution_count": null,
      "outputs": [
        {
          "output_type": "stream",
          "name": "stdout",
          "text": [
            "Sum: tensor(21.)\n",
            "Mean: tensor(3.5000)\n",
            "Std Dev: tensor(1.8708)\n",
            "Max: tensor(6.)\n",
            "Min: tensor(1.)\n",
            "Argmax: tensor(5)\n",
            "Argmin: tensor(0)\n"
          ]
        }
      ]
    },
    {
      "cell_type": "markdown",
      "source": [
        "# for reshaping and size changes\n",
        "\n"
      ],
      "metadata": {
        "id": "7UidAI184ct2"
      }
    },
    {
      "cell_type": "code",
      "source": [
        "print(\"Reshape:\", a.reshape(3, 2))\n",
        "print(\"Flatten:\", a.flatten())\n",
        "print(\"Unsqueeze:\", a.unsqueeze(0))\n",
        "print(\"Squeeze:\", a.unsqueeze(0).squeeze())\n",
        "print(\"Transpose:\", a.transpose(0, 1))\n",
        "print(\"Permute:\", a.permute(1, 0))  # same as transpose for 2D"
      ],
      "metadata": {
        "colab": {
          "base_uri": "https://localhost:8080/"
        },
        "id": "_xH__mdc4Qot",
        "outputId": "7788e3dc-dbd9-40cb-ee1f-6c32c1b50531"
      },
      "execution_count": null,
      "outputs": [
        {
          "output_type": "stream",
          "name": "stdout",
          "text": [
            "Reshape: tensor([[1., 2.],\n",
            "        [3., 4.],\n",
            "        [5., 6.]])\n",
            "Flatten: tensor([1., 2., 3., 4., 5., 6.])\n",
            "Unsqueeze: tensor([[[1., 2., 3.],\n",
            "         [4., 5., 6.]]])\n",
            "Squeeze: tensor([[1., 2., 3.],\n",
            "        [4., 5., 6.]])\n",
            "Transpose: tensor([[1., 4.],\n",
            "        [2., 5.],\n",
            "        [3., 6.]])\n",
            "Permute: tensor([[1., 4.],\n",
            "        [2., 5.],\n",
            "        [3., 6.]])\n"
          ]
        }
      ]
    },
    {
      "cell_type": "markdown",
      "source": [
        "# for COMPARISON & BOOLEAN OPS"
      ],
      "metadata": {
        "id": "zbljO-XL45zp"
      }
    },
    {
      "cell_type": "code",
      "source": [
        "print(\"Greater than 3:\", a > 3)\n",
        "print(\"Where >3:\", torch.where(a > 3, a, torch.tensor(0.)))\n",
        "print(\"Any > 5:\", (a > 5).any())\n",
        "print(\"All > 0:\", (a > 0).all())"
      ],
      "metadata": {
        "colab": {
          "base_uri": "https://localhost:8080/"
        },
        "id": "rs3CaUEN4n7w",
        "outputId": "5d2acb85-f093-4760-861c-0492c4a2ed80"
      },
      "execution_count": null,
      "outputs": [
        {
          "output_type": "stream",
          "name": "stdout",
          "text": [
            "Greater than 3: tensor([[False, False, False],\n",
            "        [ True,  True,  True]])\n",
            "Where >3: tensor([[0., 0., 0.],\n",
            "        [4., 5., 6.]])\n",
            "Any > 5: tensor(True)\n",
            "All > 0: tensor(True)\n"
          ]
        }
      ]
    },
    {
      "cell_type": "markdown",
      "source": [
        "# random tensor creation\n",
        "\n"
      ],
      "metadata": {
        "id": "WBAaqFcA5R-K"
      }
    },
    {
      "cell_type": "code",
      "source": [
        "print(\"Uniform [0,1):\", torch.rand(2, 2))\n",
        "print(\"Normal Distribution:\", torch.randn(2, 2))\n",
        "print(\"Random Ints 1-10:\", torch.randint(1, 100, (2, 3)))"
      ],
      "metadata": {
        "colab": {
          "base_uri": "https://localhost:8080/"
        },
        "id": "pFLurq9y4-7F",
        "outputId": "fedcbd7d-b950-4529-ee45-e95ea1e61327"
      },
      "execution_count": null,
      "outputs": [
        {
          "output_type": "stream",
          "name": "stdout",
          "text": [
            "Uniform [0,1): tensor([[0.6621, 0.1252],\n",
            "        [0.6694, 0.6640]])\n",
            "Normal Distribution: tensor([[-1.7683,  0.2090],\n",
            "        [ 0.1718, -0.5696]])\n",
            "Random Ints 1-10: tensor([[89,  7, 38],\n",
            "        [72, 49, 92]])\n"
          ]
        }
      ]
    },
    {
      "cell_type": "markdown",
      "source": [
        "# Tensor opeations on GPU"
      ],
      "metadata": {
        "id": "xasxwIrp5469"
      }
    },
    {
      "cell_type": "code",
      "source": [
        "\n",
        "torch.cuda.is_available()"
      ],
      "metadata": {
        "colab": {
          "base_uri": "https://localhost:8080/"
        },
        "id": "XyInFfxR5XJs",
        "outputId": "3f6500f8-3101-412b-9a2e-b55287cb04c4"
      },
      "execution_count": null,
      "outputs": [
        {
          "output_type": "execute_result",
          "data": {
            "text/plain": [
              "True"
            ]
          },
          "metadata": {},
          "execution_count": 3
        }
      ]
    },
    {
      "cell_type": "code",
      "source": [
        "# creating a new tensor on GPU\n",
        "\n",
        "gpu = torch.device('cuda')\n",
        "\n",
        "torch.tensor((3,3),device=gpu)"
      ],
      "metadata": {
        "colab": {
          "base_uri": "https://localhost:8080/"
        },
        "id": "2fWVWqpX5-NP",
        "outputId": "0aa01696-530a-4441-b42c-db12d1cf1a1e"
      },
      "execution_count": null,
      "outputs": [
        {
          "output_type": "execute_result",
          "data": {
            "text/plain": [
              "tensor([3, 3], device='cuda:0')"
            ]
          },
          "metadata": {},
          "execution_count": 5
        }
      ]
    },
    {
      "cell_type": "code",
      "source": [
        "# move tensor fro cpu to gpu\n",
        "\n",
        "\n",
        "a=torch.rand(3,3) # tensor on cpu\n",
        "\n",
        "a.to(gpu) # it will convert cpu to gpu"
      ],
      "metadata": {
        "colab": {
          "base_uri": "https://localhost:8080/"
        },
        "id": "FcDm9IE06aUp",
        "outputId": "6c2552cc-90b9-4b88-d4c7-63139511230a"
      },
      "execution_count": null,
      "outputs": [
        {
          "output_type": "execute_result",
          "data": {
            "text/plain": [
              "tensor([[0.5288, 0.8860, 0.2672],\n",
              "        [0.5852, 0.0334, 0.6659],\n",
              "        [0.3101, 0.1667, 0.1053]], device='cuda:0')"
            ]
          },
          "metadata": {},
          "execution_count": 8
        }
      ]
    },
    {
      "cell_type": "code",
      "source": [],
      "metadata": {
        "id": "Th8cqWrN6qs5"
      },
      "execution_count": null,
      "outputs": []
    }
  ]
}