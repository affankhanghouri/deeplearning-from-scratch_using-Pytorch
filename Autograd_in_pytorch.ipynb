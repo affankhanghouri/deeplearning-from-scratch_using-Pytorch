{
  "nbformat": 4,
  "nbformat_minor": 0,
  "metadata": {
    "colab": {
      "provenance": []
    },
    "kernelspec": {
      "name": "python3",
      "display_name": "Python 3"
    },
    "language_info": {
      "name": "python"
    }
  },
  "cells": [
    {
      "cell_type": "markdown",
      "source": [
        "# Why autograd ?\n",
        "\n",
        "In deep learning, we want to minimize loss (i.e., make predictions close to the truth).\n",
        "To do that, we update weights using gradients via a method called backpropagation.\n",
        "\n",
        "But here’s the problem:\n",
        "\n",
        "Computing gradients manually is painful.\n",
        "\n",
        "Doing this for big neural networks is impossible by hand.\n",
        "\n",
        "So PyTorch’s autograd system automatically computes gradients for us\n",
        ", we  just write the math!"
      ],
      "metadata": {
        "id": "lsuQQQ8vHEH2"
      }
    },
    {
      "cell_type": "code",
      "execution_count": null,
      "metadata": {
        "colab": {
          "base_uri": "https://localhost:8080/"
        },
        "id": "VU0yqAxbHA0Y",
        "outputId": "c9a67741-5110-4e4f-c489-6e6f4b1b4d59"
      },
      "outputs": [
        {
          "output_type": "stream",
          "name": "stdout",
          "text": [
            "Value of x: 2.0\n",
            "Value of y: 11.0\n",
            "Gradient dy/dx: 7.0\n"
          ]
        }
      ],
      "source": [
        "\n",
        "import torch\n",
        "\n",
        "# Step 1: Create tensor with gradient tracking\n",
        "x = torch.tensor(2.0, requires_grad=True)\n",
        "\n",
        "# Step 2: Defining a function (computational graph)\n",
        "y = x**2 + 3*x + 1\n",
        "\n",
        "# Step 3: Run backpropagation (compute gradient)\n",
        "y.backward()\n",
        "\n",
        "# Step 4: Check the gradient of x\n",
        "print(\"Value of x:\", x.item())\n",
        "print(\"Value of y:\", y.item())\n",
        "print(\"Gradient dy/dx:\", x.grad.item())\n"
      ]
    },
    {
      "cell_type": "markdown",
      "source": [
        "Every time you do math with a tensor that has requires_grad=True, PyTorch adds nodes to a computation graph.\n",
        "\n",
        "Each node knows:\n",
        "\n",
        "What operation created it (like +, *, sin)\n",
        "\n",
        "What inputs it had\n",
        "\n",
        "How to compute the gradient with respect to those inputs\n",
        "\n",
        "So when you call .backward(), PyTorch starts from the output and goes backward, using the chain rule to compute all gradients.\n",
        "\n"
      ],
      "metadata": {
        "id": "uTv8H1REH461"
      }
    },
    {
      "cell_type": "markdown",
      "source": [
        "# for multiple varible"
      ],
      "metadata": {
        "id": "AcNYQIKTH819"
      }
    },
    {
      "cell_type": "code",
      "source": [
        "x = torch.tensor(2.0, requires_grad=True)\n",
        "z = torch.tensor(3.0, requires_grad=True)\n",
        "y = x * z + z**2\n",
        "y.backward()\n",
        "\n",
        "print(x.grad)  # ∂y/∂x = z = 3\n",
        "print(z.grad)  # ∂y/∂z = x + 2z = 2 + 6 = 8\n"
      ],
      "metadata": {
        "colab": {
          "base_uri": "https://localhost:8080/"
        },
        "id": "S9uzkVLEHf5K",
        "outputId": "fca66305-a294-48e5-a0b7-70249a148e16"
      },
      "execution_count": null,
      "outputs": [
        {
          "output_type": "stream",
          "name": "stdout",
          "text": [
            "tensor(3.)\n",
            "tensor(8.)\n"
          ]
        }
      ]
    },
    {
      "cell_type": "markdown",
      "source": [
        "# for vector or matrix operation"
      ],
      "metadata": {
        "id": "BACqP-9pIpdv"
      }
    },
    {
      "cell_type": "code",
      "source": [
        "a = torch.randn(3, requires_grad=True)\n",
        "b = a * 2\n",
        "b.sum().backward()\n",
        "print(a.grad)  # each grad = 2\n"
      ],
      "metadata": {
        "colab": {
          "base_uri": "https://localhost:8080/"
        },
        "id": "IzoLiRKRIL8Y",
        "outputId": "33300828-77bf-4550-93bd-eed3e2a311e7"
      },
      "execution_count": null,
      "outputs": [
        {
          "output_type": "stream",
          "name": "stdout",
          "text": [
            "tensor([2., 2., 2.])\n"
          ]
        }
      ]
    },
    {
      "cell_type": "code",
      "source": [],
      "metadata": {
        "id": "KnFQwxdtIoBB"
      },
      "execution_count": null,
      "outputs": []
    }
  ]
}